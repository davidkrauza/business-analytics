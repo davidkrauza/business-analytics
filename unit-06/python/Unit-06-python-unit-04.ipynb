{
 "cells": [
  {
   "cell_type": "markdown",
   "metadata": {},
   "source": [
    "#  Business Analytics - Unit  06\n",
    "\n",
    "## Lab 05 - Analytic Techniques\n",
    "\n",
    "### Introduction\n",
    "\n",
    "The purpose of this lab is to introduce  how Python can be used  to analyze data using several popular analytic techniques using Python's *scikit-learn* library. The techniques covered in this lab include:\n",
    "1.  Cluster Analysis\n",
    "2.  Network Analysis\n",
    "3.  Linear Regression Analysis "
   ]
  },
  {
   "cell_type": "code",
   "execution_count": null,
   "metadata": {
    "collapsed": true
   },
   "outputs": [],
   "source": []
  }
 ],
 "metadata": {
  "anaconda-cloud": {},
  "kernelspec": {
   "display_name": "Python [default]",
   "language": "python",
   "name": "python3"
  },
  "language_info": {
   "codemirror_mode": {
    "name": "ipython",
    "version": 3
   },
   "file_extension": ".py",
   "mimetype": "text/x-python",
   "name": "python",
   "nbconvert_exporter": "python",
   "pygments_lexer": "ipython3",
   "version": "3.5.2"
  }
 },
 "nbformat": 4,
 "nbformat_minor": 1
}
