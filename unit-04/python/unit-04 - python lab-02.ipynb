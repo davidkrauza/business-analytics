{
 "cells": [
  {
   "cell_type": "markdown",
   "metadata": {},
   "source": [
    "# Business Analytics - Unit 04\n",
    "\n",
    "## Lab 02 - tidy data\n",
    "\n",
    "### Introduction\n",
    "\n",
    "The purpose of this lab is to introduce how Python can be used to tidy messy datasets. After completing this lab the student should be able to use Python to:\n",
    "\n",
    "1. Column headers are values, not variable names\n",
    "2. Variables are stored in both rows and columns\n",
    "3. Multiple types of observational units are stored in the same table\n",
    "4. A single observational unit is stored in multiple tables\n",
    "\n",
    "Before we start tidying data, let's import the pandas library"
   ]
  },
  {
   "cell_type": "code",
   "execution_count": 7,
   "metadata": {
    "collapsed": true
   },
   "outputs": [],
   "source": [
    "import pandas as pd"
   ]
  },
  {
   "cell_type": "markdown",
   "metadata": {},
   "source": [
    "### 1. Column headers are values, not variable names\n",
    "\n",
    "First we need to some messy data. For demonstration purposes we'll create a sample messy dataset and then work on tidying it up. The sample dataset will mimic the examples from Hadley Wickham's [article](http://vita.had.co.nz/papers/tidy-data.pdf) on tidy data.\n",
    "\n",
    "The sample data is being created by calling pandas' DataFrame function. To build the dataframe we pass a Python dictionary to create it. The dictionary datatype is indicated by the use of the curly braces '{}'. The format for dictionary is **key*:*value**; in our example the key is the column name and the value is the list of data elements for the column. We pass the values as a list, as indicated by the square brackets '[]'."
   ]
  },
  {
   "cell_type": "code",
   "execution_count": 9,
   "metadata": {
    "collapsed": false
   },
   "outputs": [
    {
     "name": "stdout",
     "output_type": "stream",
     "text": [
      "   $0-10k  $10k-20k  $20k-30k  $30k-40k  $40k-50k  $50k-75k  religion\n",
      "0      27        34        60        81        76       137  Agnostic\n",
      "1      12        27        37        52        35        70   Atheist\n",
      "2      27        21        30        34        33        58  Buddhist\n",
      "3     418       617       732       670       638      1116  Catholic\n"
     ]
    }
   ],
   "source": [
    "messy = pd.DataFrame({'religion':['Agnostic', 'Atheist', 'Buddhist', 'Catholic'],\n",
    "                      '$0-10k':[27, 12, 27, 418],\n",
    "                      '$10k-20k':[34, 27, 21, 617],\n",
    "                      '$20k-30k':[60, 37, 30, 732],\n",
    "                      '$30k-40k':[81, 52, 34, 670],\n",
    "                      '$40k-50k':[76, 35, 33, 638],\n",
    "                      '$50k-75k':[137, 70, 58, 1116]})\n",
    "print(messy)"
   ]
  },
  {
   "cell_type": "markdown",
   "metadata": {},
   "source": [
    "As indidated in Hadley's article and in the [slides](https://docs.google.com/presentation/d/1JeA_eBGSHWJn6Udnv7Hh8xcwQRaJVfuqcVehtShoLo4/edit?usp=sharing) for the unit this sample dataset is designed for presentation, where variables form both the rows and columns, and column headers are values, not variable names. To tidy this data we will need turn the columns into rows."
   ]
  },
  {
   "cell_type": "code",
   "execution_count": 20,
   "metadata": {
    "collapsed": false
   },
   "outputs": [
    {
     "name": "stdout",
     "output_type": "stream",
     "text": [
      "    religion    income  frequency\n",
      "0   Agnostic    $0-10k         27\n",
      "4   Agnostic  $10k-20k         34\n",
      "8   Agnostic  $20k-30k         60\n",
      "12  Agnostic  $30k-40k         81\n",
      "16  Agnostic  $40k-50k         76\n",
      "20  Agnostic  $50k-75k        137\n",
      "1    Atheist    $0-10k         12\n",
      "5    Atheist  $10k-20k         27\n",
      "9    Atheist  $20k-30k         37\n",
      "13   Atheist  $30k-40k         52\n",
      "17   Atheist  $40k-50k         35\n",
      "21   Atheist  $50k-75k         70\n",
      "2   Buddhist    $0-10k         27\n",
      "6   Buddhist  $10k-20k         21\n",
      "10  Buddhist  $20k-30k         30\n",
      "14  Buddhist  $30k-40k         34\n",
      "18  Buddhist  $40k-50k         33\n",
      "22  Buddhist  $50k-75k         58\n",
      "3   Catholic    $0-10k        418\n",
      "7   Catholic  $10k-20k        617\n",
      "11  Catholic  $20k-30k        732\n",
      "15  Catholic  $30k-40k        670\n",
      "19  Catholic  $40k-50k        638\n",
      "23  Catholic  $50k-75k       1116\n"
     ]
    }
   ],
   "source": [
    "tidy = pd.melt(messy, id_vars=['religion'], value_vars=['$0-10k', '$10k-20k', '$20k-30k', '$30k-40k', '$40k-50k', '$50k-75k'],\\\n",
    "        var_name = 'income', value_name = 'frequency').sort_values(by = ['religion', 'income'])\n",
    "print(tidy)"
   ]
  },
  {
   "cell_type": "markdown",
   "metadata": {},
   "source": [
    "To create tidy data from our original messy dataset, we call the built-in *melt* function from the pandas library. \n",
    "\n",
    "According the pandas documentation, the melt function:\n",
    "*Massages a DataFrame into a format where one or more columns are identifier variables (id_vars), while all other columns, considered measured variables (value_vars), are “unpivoted” to the row axis, leaving just two non-identifier columns, ‘variable’ and ‘value’.*\n",
    "\n",
    "Essentially we tell Python the 'religion' column is the identifier, the variable is the income level, and finally the count of income by religion is the value.\n",
    "\n",
    "Finally, we sort the dataset so everything is grouped appropriately. \n",
    "\n",
    "One last thing, which isn't required, is we write the tidy dataset to a csv file; for future use.\n",
    "\n",
    "**Side Note**: the numbers you see in the left most column are the row indexes for the dataframe,"
   ]
  },
  {
   "cell_type": "code",
   "execution_count": 21,
   "metadata": {
    "collapsed": true
   },
   "outputs": [],
   "source": [
    "tidy.to_csv('output/tidy_1.csv')"
   ]
  },
  {
   "cell_type": "markdown",
   "metadata": {},
   "source": [
    "### 2. Each different observation of that variable should be in a different row\n",
    "\n",
    "As with the previous example our first step will be to create text data. We'll also include a new library this time, numpy. Numpy is a lbrary used for managing array structures. For our purpuoses we'll use it to generate a null value in fields that should be left blank."
   ]
  },
  {
   "cell_type": "code",
   "execution_count": 8,
   "metadata": {
    "collapsed": false
   },
   "outputs": [
    {
     "name": "stdout",
     "output_type": "stream",
     "text": [
      "   d1    d2    d3  d4    d5  d6 element       id  month  year\n",
      "0 NaN   NaN   NaN NaN   NaN NaN    tmax  MX17004      1  2010\n",
      "1 NaN   NaN   NaN NaN   NaN NaN    tmin  MX17004      1  2010\n",
      "2 NaN  27.3  24.1 NaN   NaN NaN    tmax  MX17004      2  2010\n",
      "3 NaN  14.4  14.4 NaN   NaN NaN    tmin  MX17004      2  2010\n",
      "4 NaN   NaN   NaN NaN  32.1 NaN    tmax  MX17004      3  2010\n",
      "5 NaN   NaN   NaN NaN  14.2 NaN    tmin  MX17004      3  2010\n"
     ]
    }
   ],
   "source": [
    "import numpy as np\n",
    "messy = pd.DataFrame({'id':['MX17004','MX17004','MX17004','MX17004','MX17004','MX17004'],\n",
    "                      'year':[2010, 2010, 2010, 2010, 2010, 2010],\n",
    "                      'month':[1,1,2,2,3,3],\n",
    "                      'element':['tmax', 'tmin','tmax', 'tmin','tmax', 'tmin'],\n",
    "                      'd1':[np.nan, np.nan, np.nan, np.nan, np.nan, np.nan],\n",
    "                      'd2':[np.nan, np.nan, 27.3, 14.4, np.nan, np.nan],\n",
    "                      'd3':[np.nan, np.nan, 24.1, 14.4, np.nan, np.nan],\n",
    "                      'd4':[np.nan, np.nan, np.nan, np.nan, np.nan, np.nan],\n",
    "                      'd5':[np.nan, np.nan, np.nan, np.nan, 32.1, 14.2],\n",
    "                      'd6':[np.nan, np.nan, np.nan, np.nan, np.nan, np.nan]})\n",
    "print(messy)"
   ]
  },
  {
   "cell_type": "code",
   "execution_count": 20,
   "metadata": {
    "collapsed": false
   },
   "outputs": [
    {
     "name": "stdout",
     "output_type": "stream",
     "text": [
      "         id  year  month element day  value\n",
      "8   MX17004  2010      2    tmax  d2   27.3\n",
      "9   MX17004  2010      2    tmin  d2   14.4\n",
      "14  MX17004  2010      2    tmax  d3   24.1\n",
      "15  MX17004  2010      2    tmin  d3   14.4\n",
      "28  MX17004  2010      3    tmax  d5   32.1\n",
      "29  MX17004  2010      3    tmin  d5   14.2\n"
     ]
    }
   ],
   "source": [
    "molten = pd.melt(messy, id_vars=['id', 'year', 'month', 'element'], value_vars=[ 'd1', 'd2', 'd3', 'd4', 'd5', 'd6'], var_name = 'day')\n",
    "molten.dropna(inplace = True)\n",
    "print(molten)"
   ]
  },
  {
   "cell_type": "code",
   "execution_count": 18,
   "metadata": {
    "collapsed": false
   },
   "outputs": [],
   "source": [
    "def f(row):    \n",
    "    return '{:d}-{:02d}-{:02d}'.format(row['year'], row['month'], int(row['day'][1:]))"
   ]
  },
  {
   "cell_type": "code",
   "execution_count": 22,
   "metadata": {
    "collapsed": false
   },
   "outputs": [
    {
     "name": "stdout",
     "output_type": "stream",
     "text": [
      "         id element  value        date\n",
      "8   MX17004    tmax   27.3  2010-02-02\n",
      "9   MX17004    tmin   14.4  2010-02-02\n",
      "14  MX17004    tmax   24.1  2010-02-03\n",
      "15  MX17004    tmin   14.4  2010-02-03\n",
      "28  MX17004    tmax   32.1  2010-03-05\n",
      "29  MX17004    tmin   14.2  2010-03-05\n"
     ]
    }
   ],
   "source": [
    "molten['date'] = molten.apply(f,axis=1)\n",
    "molten = molten[['id', 'element','value','date']]\n",
    "print(molten)"
   ]
  },
  {
   "cell_type": "code",
   "execution_count": 35,
   "metadata": {
    "collapsed": false
   },
   "outputs": [
    {
     "name": "stdout",
     "output_type": "stream",
     "text": [
      "element     tmax  tmin\n",
      "date                  \n",
      "2010-02-02  27.3  14.4\n",
      "2010-02-03  24.1  14.4\n",
      "2010-03-05  32.1  14.2\n"
     ]
    }
   ],
   "source": [
    "tidy = molten.pivot(index='date',columns='element',values='value')\n",
    "print(tidy)"
   ]
  },
  {
   "cell_type": "code",
   "execution_count": null,
   "metadata": {
    "collapsed": true
   },
   "outputs": [],
   "source": []
  }
 ],
 "metadata": {
  "anaconda-cloud": {},
  "kernelspec": {
   "display_name": "Python [default]",
   "language": "python",
   "name": "python3"
  },
  "language_info": {
   "codemirror_mode": {
    "name": "ipython",
    "version": 3
   },
   "file_extension": ".py",
   "mimetype": "text/x-python",
   "name": "python",
   "nbconvert_exporter": "python",
   "pygments_lexer": "ipython3",
   "version": "3.5.2"
  }
 },
 "nbformat": 4,
 "nbformat_minor": 1
}
