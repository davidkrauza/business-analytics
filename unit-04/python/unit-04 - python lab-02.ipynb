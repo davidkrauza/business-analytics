{
 "cells": [
  {
   "cell_type": "markdown",
   "metadata": {},
   "source": [
    "# Business Analytics - Unit 04\n",
    "\n",
    "## Lab 02 - tidy data\n",
    "\n",
    "### Introduction\n",
    "\n",
    "The purpose of this lab is to introduce how Python can be used to tidy messy datasets. After completing this lab the student should be able to use Python to:\n",
    "\n",
    "1. Column headers are values, not variable names\n",
    "2. Variables are stored in both rows and columns\n",
    "3. Multiple types of observational units are stored in the same table\n",
    "4. A single observational unit is stored in multiple tables\n",
    "\n",
    "### 1. Column headers are values, not variable names"
   ]
  },
  {
   "cell_type": "code",
   "execution_count": null,
   "metadata": {
    "collapsed": true
   },
   "outputs": [],
   "source": []
  }
 ],
 "metadata": {
  "anaconda-cloud": {},
  "kernelspec": {
   "display_name": "Python [default]",
   "language": "python",
   "name": "python3"
  },
  "language_info": {
   "codemirror_mode": {
    "name": "ipython",
    "version": 3
   },
   "file_extension": ".py",
   "mimetype": "text/x-python",
   "name": "python",
   "nbconvert_exporter": "python",
   "pygments_lexer": "ipython3",
   "version": "3.5.2"
  }
 },
 "nbformat": 4,
 "nbformat_minor": 1
}
