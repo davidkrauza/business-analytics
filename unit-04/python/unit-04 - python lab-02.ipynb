{
 "cells": [
  {
   "cell_type": "markdown",
   "metadata": {},
   "source": [
    "# Business Analytics - Unit 04\n",
    "\n",
    "## Lab 02 - tidy data\n",
    "\n",
    "### Introduction\n",
    "\n",
    "The purpose of this lab is to introduce how Python can be used to tidy messy datasets. After completing this lab the student should be able to use Python to:\n",
    "\n",
    "1. Column headers are values, not variable names\n",
    "2. Variables are stored in both rows and columns\n",
    "3. Multiple types of observational units are stored in the same table\n",
    "4. A single observational unit is stored in multiple tables\n",
    "\n",
    "Before we start tidying data, let's import the pandas library"
   ]
  },
  {
   "cell_type": "code",
   "execution_count": 2,
   "metadata": {
    "collapsed": true
   },
   "outputs": [],
   "source": [
    "import pandas as pd"
   ]
  },
  {
   "cell_type": "markdown",
   "metadata": {},
   "source": [
    "### 1. Column headers are values, not variable names\n",
    "\n",
    "First we need to some messy data. For demonstration purposes we'll create a sample messy dataset and then work on tidying it up. The sample dataset will mimic the examples from Hadley Wickham's [article](http://vita.had.co.nz/papers/tidy-data.pdf) on tidy data.\n",
    "\n",
    "The sample data is being created by calling pandas' DataFrame function. To build the dataframe we pass a Python dictionary to create it. The dictionary datatype is indicated by the use of the curly braces '{}'. The format for dictionary is **key*:*value**; in our example the key is the column name and the value is the list of data elements for the column. We pass the values as a list, as indicated by the square brackets '[]'."
   ]
  },
  {
   "cell_type": "code",
   "execution_count": 3,
   "metadata": {
    "collapsed": false
   },
   "outputs": [
    {
     "data": {
      "text/html": [
       "<div>\n",
       "<table border=\"1\" class=\"dataframe\">\n",
       "  <thead>\n",
       "    <tr style=\"text-align: right;\">\n",
       "      <th></th>\n",
       "      <th>$0-10k</th>\n",
       "      <th>$10k-20k</th>\n",
       "      <th>$20k-30k</th>\n",
       "      <th>$30k-40k</th>\n",
       "      <th>$40k-50k</th>\n",
       "      <th>$50k-75k</th>\n",
       "      <th>religion</th>\n",
       "    </tr>\n",
       "  </thead>\n",
       "  <tbody>\n",
       "    <tr>\n",
       "      <th>0</th>\n",
       "      <td>27</td>\n",
       "      <td>34</td>\n",
       "      <td>60</td>\n",
       "      <td>81</td>\n",
       "      <td>76</td>\n",
       "      <td>137</td>\n",
       "      <td>Agnostic</td>\n",
       "    </tr>\n",
       "    <tr>\n",
       "      <th>1</th>\n",
       "      <td>12</td>\n",
       "      <td>27</td>\n",
       "      <td>37</td>\n",
       "      <td>52</td>\n",
       "      <td>35</td>\n",
       "      <td>70</td>\n",
       "      <td>Atheist</td>\n",
       "    </tr>\n",
       "    <tr>\n",
       "      <th>2</th>\n",
       "      <td>27</td>\n",
       "      <td>21</td>\n",
       "      <td>30</td>\n",
       "      <td>34</td>\n",
       "      <td>33</td>\n",
       "      <td>58</td>\n",
       "      <td>Buddhist</td>\n",
       "    </tr>\n",
       "    <tr>\n",
       "      <th>3</th>\n",
       "      <td>418</td>\n",
       "      <td>617</td>\n",
       "      <td>732</td>\n",
       "      <td>670</td>\n",
       "      <td>638</td>\n",
       "      <td>1116</td>\n",
       "      <td>Catholic</td>\n",
       "    </tr>\n",
       "  </tbody>\n",
       "</table>\n",
       "</div>"
      ],
      "text/plain": [
       "   $0-10k  $10k-20k  $20k-30k  $30k-40k  $40k-50k  $50k-75k  religion\n",
       "0      27        34        60        81        76       137  Agnostic\n",
       "1      12        27        37        52        35        70   Atheist\n",
       "2      27        21        30        34        33        58  Buddhist\n",
       "3     418       617       732       670       638      1116  Catholic"
      ]
     },
     "execution_count": 3,
     "metadata": {},
     "output_type": "execute_result"
    }
   ],
   "source": [
    "messy = pd.DataFrame({'religion':['Agnostic', 'Atheist', 'Buddhist', 'Catholic'],\n",
    "                      '$0-10k':[27, 12, 27, 418],\n",
    "                      '$10k-20k':[34, 27, 21, 617],\n",
    "                      '$20k-30k':[60, 37, 30, 732],\n",
    "                      '$30k-40k':[81, 52, 34, 670],\n",
    "                      '$40k-50k':[76, 35, 33, 638],\n",
    "                      '$50k-75k':[137, 70, 58, 1116]})\n",
    "messy.head()"
   ]
  },
  {
   "cell_type": "markdown",
   "metadata": {},
   "source": [
    "As indidated in Hadley's article and in the [slides](https://docs.google.com/presentation/d/1JeA_eBGSHWJn6Udnv7Hh8xcwQRaJVfuqcVehtShoLo4/edit?usp=sharing) for the unit this sample dataset is designed for presentation, where variables form both the rows and columns, and column headers are values, not variable names. To tidy this data we will need turn the columns into rows."
   ]
  },
  {
   "cell_type": "code",
   "execution_count": 4,
   "metadata": {
    "collapsed": false
   },
   "outputs": [
    {
     "data": {
      "text/html": [
       "<div>\n",
       "<table border=\"1\" class=\"dataframe\">\n",
       "  <thead>\n",
       "    <tr style=\"text-align: right;\">\n",
       "      <th></th>\n",
       "      <th>religion</th>\n",
       "      <th>income</th>\n",
       "      <th>frequency</th>\n",
       "    </tr>\n",
       "  </thead>\n",
       "  <tbody>\n",
       "    <tr>\n",
       "      <th>0</th>\n",
       "      <td>Agnostic</td>\n",
       "      <td>$0-10k</td>\n",
       "      <td>27</td>\n",
       "    </tr>\n",
       "    <tr>\n",
       "      <th>4</th>\n",
       "      <td>Agnostic</td>\n",
       "      <td>$10k-20k</td>\n",
       "      <td>34</td>\n",
       "    </tr>\n",
       "    <tr>\n",
       "      <th>8</th>\n",
       "      <td>Agnostic</td>\n",
       "      <td>$20k-30k</td>\n",
       "      <td>60</td>\n",
       "    </tr>\n",
       "    <tr>\n",
       "      <th>12</th>\n",
       "      <td>Agnostic</td>\n",
       "      <td>$30k-40k</td>\n",
       "      <td>81</td>\n",
       "    </tr>\n",
       "    <tr>\n",
       "      <th>16</th>\n",
       "      <td>Agnostic</td>\n",
       "      <td>$40k-50k</td>\n",
       "      <td>76</td>\n",
       "    </tr>\n",
       "  </tbody>\n",
       "</table>\n",
       "</div>"
      ],
      "text/plain": [
       "    religion    income  frequency\n",
       "0   Agnostic    $0-10k         27\n",
       "4   Agnostic  $10k-20k         34\n",
       "8   Agnostic  $20k-30k         60\n",
       "12  Agnostic  $30k-40k         81\n",
       "16  Agnostic  $40k-50k         76"
      ]
     },
     "execution_count": 4,
     "metadata": {},
     "output_type": "execute_result"
    }
   ],
   "source": [
    "tidy = pd.melt(messy, id_vars=['religion'], value_vars=['$0-10k', '$10k-20k', '$20k-30k', '$30k-40k', '$40k-50k', '$50k-75k'],\\\n",
    "        var_name = 'income', value_name = 'frequency').sort_values(by = ['religion', 'income'])\n",
    "tidy.head()"
   ]
  },
  {
   "cell_type": "markdown",
   "metadata": {},
   "source": [
    "To create tidy data from our original messy dataset, we call the built-in *melt* function from the pandas library. \n",
    "\n",
    "According the pandas documentation, the melt function:\n",
    "*Massages a DataFrame into a format where one or more columns are identifier variables (id_vars), while all other columns, considered measured variables (value_vars), are “unpivoted” to the row axis, leaving just two non-identifier columns, ‘variable’ and ‘value’.*\n",
    "\n",
    "Essentially we tell Python the 'religion' column is the identifier, the variable is the income level, and finally the count of income by religion is the value.\n",
    "\n",
    "Finally, we sort the dataset so everything is grouped appropriately. \n",
    "\n",
    "One last thing, which isn't required, is we write the tidy dataset to a csv file; for future use.\n",
    "\n",
    "**Side Note**: the numbers you see in the left most column are the row indexes for the dataframe,"
   ]
  },
  {
   "cell_type": "code",
   "execution_count": 21,
   "metadata": {
    "collapsed": true
   },
   "outputs": [],
   "source": [
    "tidy.to_csv('output/tidy_1.csv')"
   ]
  },
  {
   "cell_type": "markdown",
   "metadata": {},
   "source": [
    "### 2. Each different observation of that variable should be in a different row\n",
    "\n",
    "As with the previous example our first step will be to create text data. We'll also include a new library this time, numpy. Numpy is a lbrary used for managing array structures. For our purpuoses we'll use it to generate a null value in fields that should be left blank."
   ]
  },
  {
   "cell_type": "code",
   "execution_count": 5,
   "metadata": {
    "collapsed": false
   },
   "outputs": [
    {
     "data": {
      "text/html": [
       "<div>\n",
       "<table border=\"1\" class=\"dataframe\">\n",
       "  <thead>\n",
       "    <tr style=\"text-align: right;\">\n",
       "      <th></th>\n",
       "      <th>d1</th>\n",
       "      <th>d2</th>\n",
       "      <th>d3</th>\n",
       "      <th>d4</th>\n",
       "      <th>d5</th>\n",
       "      <th>d6</th>\n",
       "      <th>element</th>\n",
       "      <th>id</th>\n",
       "      <th>month</th>\n",
       "      <th>year</th>\n",
       "    </tr>\n",
       "  </thead>\n",
       "  <tbody>\n",
       "    <tr>\n",
       "      <th>0</th>\n",
       "      <td>NaN</td>\n",
       "      <td>NaN</td>\n",
       "      <td>NaN</td>\n",
       "      <td>NaN</td>\n",
       "      <td>NaN</td>\n",
       "      <td>NaN</td>\n",
       "      <td>tmax</td>\n",
       "      <td>MX17004</td>\n",
       "      <td>1</td>\n",
       "      <td>2010</td>\n",
       "    </tr>\n",
       "    <tr>\n",
       "      <th>1</th>\n",
       "      <td>NaN</td>\n",
       "      <td>NaN</td>\n",
       "      <td>NaN</td>\n",
       "      <td>NaN</td>\n",
       "      <td>NaN</td>\n",
       "      <td>NaN</td>\n",
       "      <td>tmin</td>\n",
       "      <td>MX17004</td>\n",
       "      <td>1</td>\n",
       "      <td>2010</td>\n",
       "    </tr>\n",
       "    <tr>\n",
       "      <th>2</th>\n",
       "      <td>NaN</td>\n",
       "      <td>27.3</td>\n",
       "      <td>24.1</td>\n",
       "      <td>NaN</td>\n",
       "      <td>NaN</td>\n",
       "      <td>NaN</td>\n",
       "      <td>tmax</td>\n",
       "      <td>MX17004</td>\n",
       "      <td>2</td>\n",
       "      <td>2010</td>\n",
       "    </tr>\n",
       "    <tr>\n",
       "      <th>3</th>\n",
       "      <td>NaN</td>\n",
       "      <td>14.4</td>\n",
       "      <td>14.4</td>\n",
       "      <td>NaN</td>\n",
       "      <td>NaN</td>\n",
       "      <td>NaN</td>\n",
       "      <td>tmin</td>\n",
       "      <td>MX17004</td>\n",
       "      <td>2</td>\n",
       "      <td>2010</td>\n",
       "    </tr>\n",
       "    <tr>\n",
       "      <th>4</th>\n",
       "      <td>NaN</td>\n",
       "      <td>NaN</td>\n",
       "      <td>NaN</td>\n",
       "      <td>NaN</td>\n",
       "      <td>32.1</td>\n",
       "      <td>NaN</td>\n",
       "      <td>tmax</td>\n",
       "      <td>MX17004</td>\n",
       "      <td>3</td>\n",
       "      <td>2010</td>\n",
       "    </tr>\n",
       "  </tbody>\n",
       "</table>\n",
       "</div>"
      ],
      "text/plain": [
       "   d1    d2    d3  d4    d5  d6 element       id  month  year\n",
       "0 NaN   NaN   NaN NaN   NaN NaN    tmax  MX17004      1  2010\n",
       "1 NaN   NaN   NaN NaN   NaN NaN    tmin  MX17004      1  2010\n",
       "2 NaN  27.3  24.1 NaN   NaN NaN    tmax  MX17004      2  2010\n",
       "3 NaN  14.4  14.4 NaN   NaN NaN    tmin  MX17004      2  2010\n",
       "4 NaN   NaN   NaN NaN  32.1 NaN    tmax  MX17004      3  2010"
      ]
     },
     "execution_count": 5,
     "metadata": {},
     "output_type": "execute_result"
    }
   ],
   "source": [
    "import numpy as np\n",
    "messy = pd.DataFrame({'id':['MX17004','MX17004','MX17004','MX17004','MX17004','MX17004'],\n",
    "                      'year':[2010, 2010, 2010, 2010, 2010, 2010],\n",
    "                      'month':[1,1,2,2,3,3],\n",
    "                      'element':['tmax', 'tmin','tmax', 'tmin','tmax', 'tmin'],\n",
    "                      'd1':[np.nan, np.nan, np.nan, np.nan, np.nan, np.nan],\n",
    "                      'd2':[np.nan, np.nan, 27.3, 14.4, np.nan, np.nan],\n",
    "                      'd3':[np.nan, np.nan, 24.1, 14.4, np.nan, np.nan],\n",
    "                      'd4':[np.nan, np.nan, np.nan, np.nan, np.nan, np.nan],\n",
    "                      'd5':[np.nan, np.nan, np.nan, np.nan, 32.1, 14.2],\n",
    "                      'd6':[np.nan, np.nan, np.nan, np.nan, np.nan, np.nan]})\n",
    "messy.head()"
   ]
  },
  {
   "cell_type": "markdown",
   "metadata": {},
   "source": [
    "As indicated in the slides for this unit, we will need to shape this data so that it is organized around the id for the weather station and a single date. \n",
    "\n",
    "The first step to cleaning up this data is to melt it with id_vars of id, year, month, and element. The value_vars will be the day values. Because there are so many blank values, we are removing them with the dropna function call. The argument in the function call means the dataset will be changed in place with the call and you do not have to assign the results to a new dataset."
   ]
  },
  {
   "cell_type": "code",
   "execution_count": 6,
   "metadata": {
    "collapsed": false
   },
   "outputs": [
    {
     "data": {
      "text/html": [
       "<div>\n",
       "<table border=\"1\" class=\"dataframe\">\n",
       "  <thead>\n",
       "    <tr style=\"text-align: right;\">\n",
       "      <th></th>\n",
       "      <th>id</th>\n",
       "      <th>year</th>\n",
       "      <th>month</th>\n",
       "      <th>element</th>\n",
       "      <th>day</th>\n",
       "      <th>value</th>\n",
       "    </tr>\n",
       "  </thead>\n",
       "  <tbody>\n",
       "    <tr>\n",
       "      <th>8</th>\n",
       "      <td>MX17004</td>\n",
       "      <td>2010</td>\n",
       "      <td>2</td>\n",
       "      <td>tmax</td>\n",
       "      <td>d2</td>\n",
       "      <td>27.3</td>\n",
       "    </tr>\n",
       "    <tr>\n",
       "      <th>9</th>\n",
       "      <td>MX17004</td>\n",
       "      <td>2010</td>\n",
       "      <td>2</td>\n",
       "      <td>tmin</td>\n",
       "      <td>d2</td>\n",
       "      <td>14.4</td>\n",
       "    </tr>\n",
       "    <tr>\n",
       "      <th>14</th>\n",
       "      <td>MX17004</td>\n",
       "      <td>2010</td>\n",
       "      <td>2</td>\n",
       "      <td>tmax</td>\n",
       "      <td>d3</td>\n",
       "      <td>24.1</td>\n",
       "    </tr>\n",
       "    <tr>\n",
       "      <th>15</th>\n",
       "      <td>MX17004</td>\n",
       "      <td>2010</td>\n",
       "      <td>2</td>\n",
       "      <td>tmin</td>\n",
       "      <td>d3</td>\n",
       "      <td>14.4</td>\n",
       "    </tr>\n",
       "    <tr>\n",
       "      <th>28</th>\n",
       "      <td>MX17004</td>\n",
       "      <td>2010</td>\n",
       "      <td>3</td>\n",
       "      <td>tmax</td>\n",
       "      <td>d5</td>\n",
       "      <td>32.1</td>\n",
       "    </tr>\n",
       "  </tbody>\n",
       "</table>\n",
       "</div>"
      ],
      "text/plain": [
       "         id  year  month element day  value\n",
       "8   MX17004  2010      2    tmax  d2   27.3\n",
       "9   MX17004  2010      2    tmin  d2   14.4\n",
       "14  MX17004  2010      2    tmax  d3   24.1\n",
       "15  MX17004  2010      2    tmin  d3   14.4\n",
       "28  MX17004  2010      3    tmax  d5   32.1"
      ]
     },
     "execution_count": 6,
     "metadata": {},
     "output_type": "execute_result"
    }
   ],
   "source": [
    "molten = pd.melt(messy, id_vars=['id', 'year', 'month', 'element'], value_vars=[ 'd1', 'd2', 'd3', 'd4', 'd5', 'd6'], var_name = 'day')\n",
    "molten.dropna(inplace = True)\n",
    "molten.head()"
   ]
  },
  {
   "cell_type": "markdown",
   "metadata": {},
   "source": [
    "To format the date we are going to need a helper function that will take the values in the year, month, and day columns and create a date in the yyyy-mm-dd format. "
   ]
  },
  {
   "cell_type": "code",
   "execution_count": 8,
   "metadata": {
    "collapsed": false
   },
   "outputs": [],
   "source": [
    "def create_date(row):    \n",
    "    return '{:d}-{:02d}-{:02d}'.format(row['year'], row['month'], int(row['day'][1:]))"
   ]
  },
  {
   "cell_type": "markdown",
   "metadata": {},
   "source": [
    "The function we defined above accepts a row of data from a pandas dataframe as an input. We pull the year, month, and day information from the row and apply the format function to it and return a string in the format of yyyy-mm-dd. "
   ]
  },
  {
   "cell_type": "code",
   "execution_count": 9,
   "metadata": {
    "collapsed": false
   },
   "outputs": [
    {
     "data": {
      "text/html": [
       "<div>\n",
       "<table border=\"1\" class=\"dataframe\">\n",
       "  <thead>\n",
       "    <tr style=\"text-align: right;\">\n",
       "      <th></th>\n",
       "      <th>id</th>\n",
       "      <th>element</th>\n",
       "      <th>value</th>\n",
       "      <th>date</th>\n",
       "    </tr>\n",
       "  </thead>\n",
       "  <tbody>\n",
       "    <tr>\n",
       "      <th>8</th>\n",
       "      <td>MX17004</td>\n",
       "      <td>tmax</td>\n",
       "      <td>27.3</td>\n",
       "      <td>2010-02-02</td>\n",
       "    </tr>\n",
       "    <tr>\n",
       "      <th>9</th>\n",
       "      <td>MX17004</td>\n",
       "      <td>tmin</td>\n",
       "      <td>14.4</td>\n",
       "      <td>2010-02-02</td>\n",
       "    </tr>\n",
       "    <tr>\n",
       "      <th>14</th>\n",
       "      <td>MX17004</td>\n",
       "      <td>tmax</td>\n",
       "      <td>24.1</td>\n",
       "      <td>2010-02-03</td>\n",
       "    </tr>\n",
       "    <tr>\n",
       "      <th>15</th>\n",
       "      <td>MX17004</td>\n",
       "      <td>tmin</td>\n",
       "      <td>14.4</td>\n",
       "      <td>2010-02-03</td>\n",
       "    </tr>\n",
       "    <tr>\n",
       "      <th>28</th>\n",
       "      <td>MX17004</td>\n",
       "      <td>tmax</td>\n",
       "      <td>32.1</td>\n",
       "      <td>2010-03-05</td>\n",
       "    </tr>\n",
       "  </tbody>\n",
       "</table>\n",
       "</div>"
      ],
      "text/plain": [
       "         id element  value        date\n",
       "8   MX17004    tmax   27.3  2010-02-02\n",
       "9   MX17004    tmin   14.4  2010-02-02\n",
       "14  MX17004    tmax   24.1  2010-02-03\n",
       "15  MX17004    tmin   14.4  2010-02-03\n",
       "28  MX17004    tmax   32.1  2010-03-05"
      ]
     },
     "execution_count": 9,
     "metadata": {},
     "output_type": "execute_result"
    }
   ],
   "source": [
    "molten['date'] = molten.apply(create_date,axis=1)\n",
    "molten = molten[['id', 'element','value','date']]\n",
    "molten.head()"
   ]
  },
  {
   "cell_type": "markdown",
   "metadata": {},
   "source": [
    "The apply function allows us to call another function across an axis in a dataframe. In our example appove we call the apply function and pass our helper function and assign the results to the 'date' column in the pandas dataframe. When axis is equal to 1, we are telling Python that the function we are passing it applies to each row in the dataframe."
   ]
  },
  {
   "cell_type": "code",
   "execution_count": 12,
   "metadata": {
    "collapsed": false
   },
   "outputs": [
    {
     "data": {
      "text/html": [
       "<div>\n",
       "<table border=\"1\" class=\"dataframe\">\n",
       "  <thead>\n",
       "    <tr style=\"text-align: right;\">\n",
       "      <th></th>\n",
       "      <th>element</th>\n",
       "      <th>tmax</th>\n",
       "      <th>tmin</th>\n",
       "    </tr>\n",
       "    <tr>\n",
       "      <th>id</th>\n",
       "      <th>date</th>\n",
       "      <th></th>\n",
       "      <th></th>\n",
       "    </tr>\n",
       "  </thead>\n",
       "  <tbody>\n",
       "    <tr>\n",
       "      <th rowspan=\"3\" valign=\"top\">MX17004</th>\n",
       "      <th>2010-02-02</th>\n",
       "      <td>27.3</td>\n",
       "      <td>14.4</td>\n",
       "    </tr>\n",
       "    <tr>\n",
       "      <th>2010-02-03</th>\n",
       "      <td>24.1</td>\n",
       "      <td>14.4</td>\n",
       "    </tr>\n",
       "    <tr>\n",
       "      <th>2010-03-05</th>\n",
       "      <td>32.1</td>\n",
       "      <td>14.2</td>\n",
       "    </tr>\n",
       "  </tbody>\n",
       "</table>\n",
       "</div>"
      ],
      "text/plain": [
       "element             tmax  tmin\n",
       "id      date                  \n",
       "MX17004 2010-02-02  27.3  14.4\n",
       "        2010-02-03  24.1  14.4\n",
       "        2010-03-05  32.1  14.2"
      ]
     },
     "execution_count": 12,
     "metadata": {},
     "output_type": "execute_result"
    }
   ],
   "source": [
    "tidy = molten.groupby('id').apply(pd.DataFrame.pivot,\n",
    "                                  index='date',\n",
    "                                  columns='element',\n",
    "                                  values='value')\n",
    "tidy.head()"
   ]
  },
  {
   "cell_type": "markdown",
   "metadata": {},
   "source": [
    "To keep the id column, we need to use the groupby() function to group by the id and then apply pivot() inside each group."
   ]
  },
  {
   "cell_type": "code",
   "execution_count": 13,
   "metadata": {
    "collapsed": false
   },
   "outputs": [
    {
     "data": {
      "text/html": [
       "<div>\n",
       "<table border=\"1\" class=\"dataframe\">\n",
       "  <thead>\n",
       "    <tr style=\"text-align: right;\">\n",
       "      <th>element</th>\n",
       "      <th>id</th>\n",
       "      <th>date</th>\n",
       "      <th>tmax</th>\n",
       "      <th>tmin</th>\n",
       "    </tr>\n",
       "  </thead>\n",
       "  <tbody>\n",
       "    <tr>\n",
       "      <th>0</th>\n",
       "      <td>MX17004</td>\n",
       "      <td>2010-02-02</td>\n",
       "      <td>27.3</td>\n",
       "      <td>14.4</td>\n",
       "    </tr>\n",
       "    <tr>\n",
       "      <th>1</th>\n",
       "      <td>MX17004</td>\n",
       "      <td>2010-02-03</td>\n",
       "      <td>24.1</td>\n",
       "      <td>14.4</td>\n",
       "    </tr>\n",
       "    <tr>\n",
       "      <th>2</th>\n",
       "      <td>MX17004</td>\n",
       "      <td>2010-03-05</td>\n",
       "      <td>32.1</td>\n",
       "      <td>14.2</td>\n",
       "    </tr>\n",
       "  </tbody>\n",
       "</table>\n",
       "</div>"
      ],
      "text/plain": [
       "element       id        date  tmax  tmin\n",
       "0        MX17004  2010-02-02  27.3  14.4\n",
       "1        MX17004  2010-02-03  24.1  14.4\n",
       "2        MX17004  2010-03-05  32.1  14.2"
      ]
     },
     "execution_count": 13,
     "metadata": {},
     "output_type": "execute_result"
    }
   ],
   "source": [
    "tidy.reset_index(inplace=True)\n",
    "tidy.head()"
   ]
  },
  {
   "cell_type": "markdown",
   "metadata": {},
   "source": [
    "Finally, we'll reset the index on the dataframe to set the id for each row in the dataframe - since the previous example only displays the id for each group. In the last code block we'll write the results to a csv file incase we need to process the results at a later date."
   ]
  },
  {
   "cell_type": "code",
   "execution_count": 9,
   "metadata": {
    "collapsed": false
   },
   "outputs": [],
   "source": [
    "tidy.to_csv('output/tidy_2.csv')"
   ]
  }
 ],
 "metadata": {
  "anaconda-cloud": {},
  "kernelspec": {
   "display_name": "Python [default]",
   "language": "python",
   "name": "python3"
  },
  "language_info": {
   "codemirror_mode": {
    "name": "ipython",
    "version": 3
   },
   "file_extension": ".py",
   "mimetype": "text/x-python",
   "name": "python",
   "nbconvert_exporter": "python",
   "pygments_lexer": "ipython3",
   "version": "3.5.2"
  }
 },
 "nbformat": 4,
 "nbformat_minor": 1
}
