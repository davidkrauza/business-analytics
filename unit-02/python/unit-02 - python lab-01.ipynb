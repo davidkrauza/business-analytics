{
 "cells": [
  {
   "cell_type": "markdown",
   "metadata": {},
   "source": [
    "# Business Analytics - Unit 02\n",
    "\n",
    "## Lab 01 - Python Basics\n",
    "\n",
    "### Introduction\n",
    "\n",
    "The purpose of this lab is to introduce the basics of Python and the IPython notebook to non-programmers and new business analysts. After completing this lab the student should be able to:\n",
    "\n",
    "1. Gain comfort with IPython Notebook\n",
    "2. Write output to the screen\n",
    "3. Read and write text files\n",
    "4. Basic programming control structures\n",
    "5. Use standard Python data structures and data types\n",
    "\n",
    "### 1. IPython Introduction\n",
    "\n",
    "*Please see the [unit 02 slides](https://docs.google.com/presentation/d/1SGOeJent24JNuDxn5RuQRXK81shfn1sxbMxsymnNkD0/edit?usp=sharing) for a description of IPython User Interface*\n",
    "\n",
    "IPython notebooks consist of a series of blocks containing markdown text, executable blocks of Python code, and output blocks (the output of the code you've executed). You can these different kinds of blocks in the little window above. Executable blocks are \"Code\" and annotations are \"Markdown.\" IPython notebooks are a means in which business analysts use to share and document code in their data projects. \n",
    "\n",
    "**Side Note:** *If you want to put a text comment in your code block simple preface the line with the '#' character and Python will not try to execute that line.*"
   ]
  },
  {
   "cell_type": "markdown",
   "metadata": {},
   "source": [
    "### 2. Printing to the screen\n",
    "\n",
    "This example will demonstrate how to execute Python code that will print to your screen. It will also help you understand how to use IPython and help build \"muscle memory\".\n",
    "\n",
    "To execute the block, just place your cursor in the code block and click the run button in the tool bar above."
   ]
  },
  {
   "cell_type": "code",
   "execution_count": 2,
   "metadata": {
    "collapsed": false
   },
   "outputs": [
    {
     "name": "stdout",
     "output_type": "stream",
     "text": [
      "Hello, World!\n"
     ]
    }
   ],
   "source": [
    "print('Hello, World!')"
   ]
  },
  {
   "cell_type": "markdown",
   "metadata": {},
   "source": [
    "See how simple that was! The output should have printed the text between the quote marks below the code block. \n",
    "\n",
    "You can also print variables from you code block:"
   ]
  },
  {
   "cell_type": "code",
   "execution_count": 3,
   "metadata": {
    "collapsed": false
   },
   "outputs": [
    {
     "name": "stdout",
     "output_type": "stream",
     "text": [
      "Hello, World!\n"
     ]
    }
   ],
   "source": [
    "message = 'Hello, World!'\n",
    "print(message)"
   ]
  },
  {
   "cell_type": "markdown",
   "metadata": {},
   "source": [
    "Finally, let's look at combining the two types of print statements we used"
   ]
  },
  {
   "cell_type": "code",
   "execution_count": 4,
   "metadata": {
    "collapsed": false
   },
   "outputs": [
    {
     "name": "stdout",
     "output_type": "stream",
     "text": [
      "To you I say: Hello, World!\n"
     ]
    }
   ],
   "source": [
    "print('To you I say:', message)"
   ]
  },
  {
   "cell_type": "markdown",
   "metadata": {},
   "source": [
    "Notice that Python automatically added the the space between the quoted text string and the variable message? This example only works if you ran the code block before it, to assign 'Hello, World!' to the *message* variable - otherwise you would get an error!"
   ]
  },
  {
   "cell_type": "markdown",
   "metadata": {},
   "source": [
    "### 3. Reading from and Writing to a file\n",
    "\n",
    "#### Writing to a file"
   ]
  },
  {
   "cell_type": "code",
   "execution_count": 7,
   "metadata": {
    "collapsed": false
   },
   "outputs": [],
   "source": [
    "with open('output/test_output_file.txt', 'w') as g:\n",
    "    g.write('I am writing to the test_output_file.txt')\n",
    "    g.write('If I can read this my write operation is working!')\n",
    "g.close()"
   ]
  },
  {
   "cell_type": "markdown",
   "metadata": {},
   "source": [
    "In this example we specified the file location with a relative file specification. That statement 'output/test_file.txt' says in this working directory go to the output directory, and create a file called \"test_file.txt\"\n",
    "\n",
    "This is a simple example, in more complex examples you can write processed data to a file for later use.\n",
    "\n",
    "You'll notice that the 'write' statements are indented. Python is really particular about indented code. If you remove the ident you will get an error message. Python uses indentation to indicate a control structure; in this example Python will repeatedly do everything in the indent under the 'with open' statement. \n",
    "\n",
    "*Please note:* If you received and error indicating the file already exists, its because it was copied to your PC when you cloned the git repo. Simply find the file in the directory, delete it, and rerun the code block"
   ]
  },
  {
   "cell_type": "markdown",
   "metadata": {},
   "source": [
    "#### Reading from a file"
   ]
  },
  {
   "cell_type": "code",
   "execution_count": 8,
   "metadata": {
    "collapsed": false
   },
   "outputs": [
    {
     "name": "stdout",
     "output_type": "stream",
     "text": [
      "This is the first line of the text file\n",
      "\n",
      "This is the second line of the text file\n",
      "\n",
      "This is the third line of the text file\n",
      "\n",
      "This is the fourth line of the text file\n",
      "\n",
      "I hope that you enjoy Business Analytics!\n",
      "\n"
     ]
    }
   ],
   "source": [
    "with open('input/test_input_file.txt', 'r') as g:\n",
    "    for line in g:\n",
    "        print(line)\n",
    "g.close()"
   ]
  },
  {
   "cell_type": "markdown",
   "metadata": {},
   "source": [
    "After executing this code you should see each line of the test_input_file printed in a result block in your notebook. This is a simple example. In more complex cases you can save the content of the file to variables for processing later."
   ]
  },
  {
   "cell_type": "markdown",
   "metadata": {},
   "source": [
    "### 4. Basic programming control structures\n",
    "\n",
    "A control structure is a block of programming that analyzes variables and chooses a direction in which to go based on given parameters. The term flow control details the direction the program takes. It is the basic decision-making process in computing. For our purposes the focus will be on the most widely used statements.\n",
    "\n",
    "#### if statement"
   ]
  },
  {
   "cell_type": "code",
   "execution_count": 11,
   "metadata": {
    "collapsed": false
   },
   "outputs": [
    {
     "name": "stdout",
     "output_type": "stream",
     "text": [
      "1 - Got a true expresssion value 100\n"
     ]
    }
   ],
   "source": [
    "var = 100\n",
    "if(var) == 100:\n",
    "    print(\"1 - Got a true expresssion value\", var)"
   ]
  },
  {
   "cell_type": "markdown",
   "metadata": {},
   "source": [
    "The **if** statement allows you to check if an expression for **TRUE**.  If the statement if FALSE execution ends wihtout anything happening."
   ]
  },
  {
   "cell_type": "markdown",
   "metadata": {},
   "source": [
    "#### elif statement"
   ]
  },
  {
   "cell_type": "code",
   "execution_count": 10,
   "metadata": {
    "collapsed": false
   },
   "outputs": [
    {
     "name": "stdout",
     "output_type": "stream",
     "text": [
      "3 - Got a true expression value 100\n"
     ]
    }
   ],
   "source": [
    "var = 100\n",
    "if(var) == 200:\n",
    "   print(\"1 - Got a true expression value\", var)\n",
    "elif(var) == 150:\n",
    "   print(\"2 - Got a true expression value\", var)\n",
    "elif(var) == 100:\n",
    "   print(\"3 - Got a true expression value\", var)"
   ]
  },
  {
   "cell_type": "markdown",
   "metadata": {},
   "source": [
    "The *elif* statement allows you to check multiple expressions for *TRUE* and execute a block of code as soon as one of the conditions evaluates to *TRUE*. If none of the expressions are TRUE then execution ends without anything happening. "
   ]
  },
  {
   "cell_type": "markdown",
   "metadata": {},
   "source": [
    "#### else statement"
   ]
  },
  {
   "cell_type": "code",
   "execution_count": 15,
   "metadata": {
    "collapsed": false
   },
   "outputs": [
    {
     "name": "stdout",
     "output_type": "stream",
     "text": [
      "0 - No true expression value 100\n"
     ]
    }
   ],
   "source": [
    "var = 100\n",
    "if(var) == 200:\n",
    "    print(\"1 - Got a true expression value\", var)\n",
    "elif(var) == 300:\n",
    "    print(\"2 - Got a true expression value\", var)\n",
    "else:\n",
    "    print(\"0 - No true expression value\", var)"
   ]
  },
  {
   "cell_type": "markdown",
   "metadata": {},
   "source": [
    "An else statement can be combined with an if statement and elif statements. An else statement contains the block of code that executes if the conditional expression in the if statement resolves to 0 or a FALSE value."
   ]
  },
  {
   "cell_type": "markdown",
   "metadata": {},
   "source": [
    "#### for loop"
   ]
  },
  {
   "cell_type": "code",
   "execution_count": 18,
   "metadata": {
    "collapsed": false
   },
   "outputs": [
    {
     "name": "stdout",
     "output_type": "stream",
     "text": [
      "The current day is Lunes\n",
      "The current day is Martes\n",
      "The current day is Miércoles\n",
      "The current day is Jueves\n",
      "The current day is Viernes\n",
      "The current day is Sábado\n",
      "The current day is Domingo\n"
     ]
    }
   ],
   "source": [
    "spanish_days_of_week = ['Lunes', 'Martes', 'Miércoles', 'Jueves', 'Viernes', 'Sábado', 'Domingo']\n",
    "for day in spanish_days_of_week:\n",
    "    print('The current day is', day)"
   ]
  },
  {
   "cell_type": "markdown",
   "metadata": {},
   "source": [
    "A for loop is a control flow statement for specifying iteration, which allows code to be executed repeatedly."
   ]
  },
  {
   "cell_type": "markdown",
   "metadata": {},
   "source": [
    "### 5. Python data structures and data types"
   ]
  },
  {
   "cell_type": "code",
   "execution_count": null,
   "metadata": {
    "collapsed": true
   },
   "outputs": [],
   "source": []
  }
 ],
 "metadata": {
  "anaconda-cloud": {},
  "kernelspec": {
   "display_name": "Python [default]",
   "language": "python",
   "name": "python3"
  },
  "language_info": {
   "codemirror_mode": {
    "name": "ipython",
    "version": 3
   },
   "file_extension": ".py",
   "mimetype": "text/x-python",
   "name": "python",
   "nbconvert_exporter": "python",
   "pygments_lexer": "ipython3",
   "version": "3.5.2"
  }
 },
 "nbformat": 4,
 "nbformat_minor": 1
}
