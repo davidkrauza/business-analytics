{
 "cells": [
  {
   "cell_type": "markdown",
   "metadata": {},
   "source": [
    "# Business Analytics - Unit 02\n",
    "\n",
    "## Lab 01 - Python Basics\n",
    "\n",
    "### Introduction\n",
    "\n",
    "The purpose of this lab is to introduce the basics of Python and the IPython notebook to non-programmers and new business analysts. After completing this lab the student should be able to:\n",
    "\n",
    "1. Gain comfort with IPython Notebook\n",
    "2. Write output to the screen\n",
    "3. Read and write text files\n",
    "4. Basic programming control structures\n",
    "5. Use standard Python data structures\n",
    "\n",
    "### 1. IPython Introduction\n",
    "\n",
    "*Please see the [unit 02 slides](https://docs.google.com/presentation/d/1SGOeJent24JNuDxn5RuQRXK81shfn1sxbMxsymnNkD0/edit?usp=sharing) for a description of IPython User Interface*\n",
    "\n",
    "IPython notebooks consist of a series of blocks containing markdown text, executable blocks of Python code, and output blocks (the output of the code you've executed). You can these different kinds of blocks in the little window above. Executable blocks are \"Code\" and annotations are \"Markdown.\" IPython notebooks are a means in which business analysts use to share and document code in their data projects. \n",
    "\n",
    "**Side Note:** *If you want to put a text comment in your code block simple preface the line with the '#' character and Python will not try to execute that line.*"
   ]
  },
  {
   "cell_type": "markdown",
   "metadata": {},
   "source": [
    "### 2. Printing to the screen\n",
    "\n",
    "This example will demonstrate how to execute Python code that will print to your screen. It will also help you understand how to use IPython and help build \"muscle memory\".\n",
    "\n",
    "To execute the block, just place your cursor in the code block and click the run button in the tool bar above."
   ]
  },
  {
   "cell_type": "code",
   "execution_count": 2,
   "metadata": {
    "collapsed": false
   },
   "outputs": [
    {
     "name": "stdout",
     "output_type": "stream",
     "text": [
      "Hello, World!\n"
     ]
    }
   ],
   "source": [
    "print('Hello, World!')"
   ]
  },
  {
   "cell_type": "markdown",
   "metadata": {},
   "source": [
    "See how simple that was! The output should have printed the text between the quote marks below the code block. \n",
    "\n",
    "You can also print variables from you code block:"
   ]
  },
  {
   "cell_type": "code",
   "execution_count": 3,
   "metadata": {
    "collapsed": false
   },
   "outputs": [
    {
     "name": "stdout",
     "output_type": "stream",
     "text": [
      "Hello, World!\n"
     ]
    }
   ],
   "source": [
    "message = 'Hello, World!'\n",
    "print(message)"
   ]
  },
  {
   "cell_type": "markdown",
   "metadata": {},
   "source": [
    "Finally, let's look at combining the two types of print statements we used"
   ]
  },
  {
   "cell_type": "code",
   "execution_count": 4,
   "metadata": {
    "collapsed": false
   },
   "outputs": [
    {
     "name": "stdout",
     "output_type": "stream",
     "text": [
      "To you I say: Hello, World!\n"
     ]
    }
   ],
   "source": [
    "print('To you I say:', message)"
   ]
  },
  {
   "cell_type": "markdown",
   "metadata": {},
   "source": [
    "Notice that Python automatically added the the space between the quoted text string and the variable message? This example only works if you ran the code block before it, to assign 'Hello, World!' to the *message* variable - otherwise you would get an error!"
   ]
  },
  {
   "cell_type": "markdown",
   "metadata": {},
   "source": [
    "### 3. Reading from and Writing to a file\n",
    "\n",
    "#### Writing to a file"
   ]
  },
  {
   "cell_type": "code",
   "execution_count": 7,
   "metadata": {
    "collapsed": false
   },
   "outputs": [],
   "source": [
    "with open('output/test_output_file.txt', 'w') as g:\n",
    "    g.write('I am writing to the test_output_file.txt')\n",
    "    g.write('If I can read this my write operation is working!')\n",
    "g.close()"
   ]
  },
  {
   "cell_type": "markdown",
   "metadata": {},
   "source": [
    "In this example we specified the file location with a relative file specification. That statement 'output/test_file.txt' says in this working directory go to the output directory, and create a file called \"test_file.txt\"\n",
    "\n",
    "This is a simple example, in more complex examples you can write processed data to a file for later use.\n",
    "\n",
    "You'll notice that the 'write' statements are indented. Python is really particular about indented code. If you remove the ident you will get an error message. Python uses indentation to indicate a control structure; in this example Python will repeatedly do everything in the indent under the 'with open' statement. \n",
    "\n",
    "*Please note:* If you received and error indicating the file already exists, its because it was copied to your PC when you cloned the git repo. Simply find the file in the directory, delete it, and rerun the code block"
   ]
  },
  {
   "cell_type": "markdown",
   "metadata": {},
   "source": [
    "#### Reading from a file"
   ]
  },
  {
   "cell_type": "code",
   "execution_count": 8,
   "metadata": {
    "collapsed": false
   },
   "outputs": [
    {
     "name": "stdout",
     "output_type": "stream",
     "text": [
      "This is the first line of the text file\n",
      "\n",
      "This is the second line of the text file\n",
      "\n",
      "This is the third line of the text file\n",
      "\n",
      "This is the fourth line of the text file\n",
      "\n",
      "I hope that you enjoy Business Analytics!\n",
      "\n"
     ]
    }
   ],
   "source": [
    "with open('input/test_input_file.txt', 'r') as g:\n",
    "    for line in g:\n",
    "        print(line)\n",
    "g.close()"
   ]
  },
  {
   "cell_type": "markdown",
   "metadata": {},
   "source": [
    "After executing this code you should see each line of the test_input_file printed in a result block in your notebook. This is a simple example. In more complex cases you can save the content of the file to variables for processing later."
   ]
  },
  {
   "cell_type": "markdown",
   "metadata": {},
   "source": [
    "### 4. Basic programming control structures\n",
    "\n",
    "A control structure is a block of programming that analyzes variables and chooses a direction in which to go based on given parameters. The term flow control details the direction the program takes. It is the basic decision-making process in computing. For our purposes the focus will be on the most widely used statements.\n",
    "\n",
    "#### if statement"
   ]
  },
  {
   "cell_type": "code",
   "execution_count": 11,
   "metadata": {
    "collapsed": false
   },
   "outputs": [
    {
     "name": "stdout",
     "output_type": "stream",
     "text": [
      "1 - Got a true expresssion value 100\n"
     ]
    }
   ],
   "source": [
    "var = 100\n",
    "if(var) == 100:\n",
    "    print(\"1 - Got a true expresssion value\", var)"
   ]
  },
  {
   "cell_type": "markdown",
   "metadata": {},
   "source": [
    "The **if** statement allows you to check if an expression for **TRUE**.  If the statement if FALSE execution ends wihtout anything happening."
   ]
  },
  {
   "cell_type": "markdown",
   "metadata": {},
   "source": [
    "#### elif statement"
   ]
  },
  {
   "cell_type": "code",
   "execution_count": 10,
   "metadata": {
    "collapsed": false
   },
   "outputs": [
    {
     "name": "stdout",
     "output_type": "stream",
     "text": [
      "3 - Got a true expression value 100\n"
     ]
    }
   ],
   "source": [
    "var = 100\n",
    "if(var) == 200:\n",
    "   print(\"1 - Got a true expression value\", var)\n",
    "elif(var) == 150:\n",
    "   print(\"2 - Got a true expression value\", var)\n",
    "elif(var) == 100:\n",
    "   print(\"3 - Got a true expression value\", var)"
   ]
  },
  {
   "cell_type": "markdown",
   "metadata": {},
   "source": [
    "The *elif* statement allows you to check multiple expressions for *TRUE* and execute a block of code as soon as one of the conditions evaluates to *TRUE*. If none of the expressions are TRUE then execution ends without anything happening. "
   ]
  },
  {
   "cell_type": "markdown",
   "metadata": {},
   "source": [
    "#### else statement"
   ]
  },
  {
   "cell_type": "code",
   "execution_count": 15,
   "metadata": {
    "collapsed": false
   },
   "outputs": [
    {
     "name": "stdout",
     "output_type": "stream",
     "text": [
      "0 - No true expression value 100\n"
     ]
    }
   ],
   "source": [
    "var = 100\n",
    "if(var) == 200:\n",
    "    print(\"1 - Got a true expression value\", var)\n",
    "elif(var) == 300:\n",
    "    print(\"2 - Got a true expression value\", var)\n",
    "else:\n",
    "    print(\"0 - No true expression value\", var)"
   ]
  },
  {
   "cell_type": "markdown",
   "metadata": {},
   "source": [
    "An else statement can be combined with an if statement and elif statements. An else statement contains the block of code that executes if the conditional expression in the if statement resolves to 0 or a FALSE value."
   ]
  },
  {
   "cell_type": "markdown",
   "metadata": {},
   "source": [
    "#### for loop"
   ]
  },
  {
   "cell_type": "code",
   "execution_count": 18,
   "metadata": {
    "collapsed": false
   },
   "outputs": [
    {
     "name": "stdout",
     "output_type": "stream",
     "text": [
      "The current day is Lunes\n",
      "The current day is Martes\n",
      "The current day is Miércoles\n",
      "The current day is Jueves\n",
      "The current day is Viernes\n",
      "The current day is Sábado\n",
      "The current day is Domingo\n"
     ]
    }
   ],
   "source": [
    "spanish_days_of_week = ['Lunes', 'Martes', 'Miércoles', 'Jueves', 'Viernes', 'Sábado', 'Domingo']\n",
    "for day in spanish_days_of_week:\n",
    "    print('The current day is', day)"
   ]
  },
  {
   "cell_type": "markdown",
   "metadata": {},
   "source": [
    "A for loop is a control flow statement for specifying iteration, which allows code to be executed repeatedly."
   ]
  },
  {
   "cell_type": "markdown",
   "metadata": {},
   "source": [
    "### 5. Python data structures\n",
    "\n",
    "pandas is a Python library for data manipulation and analysis. It offers data structures and operations for manipulating numerical tables and time series. \n",
    "\n",
    "pandas is well suited for many different kinds of data:\n",
    "\n",
    "* Tabular data, as in an SQL table or Excel spreadsheet\n",
    "* Ordered and unordered time series data.\n",
    "* Arbitrary matrix data with row and column labels\n",
    "* Any other form of observational / statistical data sets. The data actually need not be labeled at all to be placed into a pandas data structure\n",
    "\n",
    "The two primary data structures of pandas, Series (1-dimensional) and DataFrame (2-dimensional), handle the vast majority of typical use cases in finance, statistics, social science, and many areas of engineering. "
   ]
  },
  {
   "cell_type": "code",
   "execution_count": 1,
   "metadata": {
    "collapsed": false
   },
   "outputs": [],
   "source": [
    "import pandas as pd\n",
    "df = pd.read_csv('input/parking.csv')"
   ]
  },
  {
   "cell_type": "markdown",
   "metadata": {},
   "source": [
    "The first step is to load the pandas library. This is done by importing the library using the *import* key word. In the previous code we used a local alias after importing the library, this will allow us to call function from the library. \n",
    "\n",
    "To load the sourde data from a .csv file to a *dataframe* we call the *read_csv* function from the pandas libary, passing the function the location of the source data. \n",
    "\n",
    "We can inspect the data in the dataframe by calling the head() function on the dataframe.  It display the first 5 records."
   ]
  },
  {
   "cell_type": "code",
   "execution_count": 2,
   "metadata": {
    "collapsed": false
   },
   "outputs": [
    {
     "data": {
      "text/html": [
       "<div>\n",
       "<table border=\"1\" class=\"dataframe\">\n",
       "  <thead>\n",
       "    <tr style=\"text-align: right;\">\n",
       "      <th></th>\n",
       "      <th>﻿X</th>\n",
       "      <th>Y</th>\n",
       "      <th>OBJECTID</th>\n",
       "      <th>ROWID_</th>\n",
       "      <th>DAY_OF_WEEK</th>\n",
       "      <th>HOLIDAY</th>\n",
       "      <th>WEEK_OF_YEAR</th>\n",
       "      <th>MONTH_OF_YEAR</th>\n",
       "      <th>ISSUE_TIME</th>\n",
       "      <th>VIOLATION_CODE</th>\n",
       "      <th>VIOLATION_DESCRIPTION</th>\n",
       "      <th>LOCATION</th>\n",
       "      <th>RP_PLATE_STATE</th>\n",
       "      <th>BODY_STYLE</th>\n",
       "      <th>ADDRESS_ID</th>\n",
       "      <th>STREETSEGID</th>\n",
       "      <th>XCOORD</th>\n",
       "      <th>YCOORD</th>\n",
       "      <th>TICKET_ISSUE_DATE</th>\n",
       "    </tr>\n",
       "  </thead>\n",
       "  <tbody>\n",
       "    <tr>\n",
       "      <th>0</th>\n",
       "      <td>-76.994964</td>\n",
       "      <td>38.899564</td>\n",
       "      <td>32443136</td>\n",
       "      <td>7814262</td>\n",
       "      <td>TUESDAY</td>\n",
       "      <td>0</td>\n",
       "      <td>49</td>\n",
       "      <td>12</td>\n",
       "      <td>1034.0</td>\n",
       "      <td>P002</td>\n",
       "      <td>STAND OR PARK IN ALLEY</td>\n",
       "      <td>800 BLOCK 8TH ST NE WEST SIDE</td>\n",
       "      <td>MD</td>\n",
       "      <td>VA</td>\n",
       "      <td>802662</td>\n",
       "      <td>2041.0</td>\n",
       "      <td>400437</td>\n",
       "      <td>136856</td>\n",
       "      <td>2015-12-01T00:00:00.000Z</td>\n",
       "    </tr>\n",
       "    <tr>\n",
       "      <th>1</th>\n",
       "      <td>-77.066881</td>\n",
       "      <td>38.903706</td>\n",
       "      <td>32443137</td>\n",
       "      <td>7814263</td>\n",
       "      <td>TUESDAY</td>\n",
       "      <td>0</td>\n",
       "      <td>49</td>\n",
       "      <td>12</td>\n",
       "      <td>1547.0</td>\n",
       "      <td>P039</td>\n",
       "      <td>PARK AT EXPIRED METER</td>\n",
       "      <td>3400 BLOCK WATER ST NW SOUTH SIDE</td>\n",
       "      <td>VA</td>\n",
       "      <td>4D</td>\n",
       "      <td>805850</td>\n",
       "      <td>5005.0</td>\n",
       "      <td>394199</td>\n",
       "      <td>137318</td>\n",
       "      <td>2015-12-01T00:00:00.000Z</td>\n",
       "    </tr>\n",
       "    <tr>\n",
       "      <th>2</th>\n",
       "      <td>-77.007824</td>\n",
       "      <td>38.952920</td>\n",
       "      <td>32443138</td>\n",
       "      <td>7814264</td>\n",
       "      <td>TUESDAY</td>\n",
       "      <td>0</td>\n",
       "      <td>49</td>\n",
       "      <td>12</td>\n",
       "      <td>1925.0</td>\n",
       "      <td>P003</td>\n",
       "      <td>RESIDENTIAL PERMIT PKING BEYOND LIMIT W/O PERMIT</td>\n",
       "      <td>5200 BLOCK FORT TOTTEN DR NE WEST *</td>\n",
       "      <td>MD</td>\n",
       "      <td>UT</td>\n",
       "      <td>802277</td>\n",
       "      <td>1890.0</td>\n",
       "      <td>399322</td>\n",
       "      <td>142779</td>\n",
       "      <td>2015-12-01T00:00:00.000Z</td>\n",
       "    </tr>\n",
       "    <tr>\n",
       "      <th>3</th>\n",
       "      <td>-77.032409</td>\n",
       "      <td>38.902172</td>\n",
       "      <td>32443139</td>\n",
       "      <td>7814265</td>\n",
       "      <td>TUESDAY</td>\n",
       "      <td>0</td>\n",
       "      <td>49</td>\n",
       "      <td>12</td>\n",
       "      <td>2041.0</td>\n",
       "      <td>P281</td>\n",
       "      <td>FAIL TO DISPLAY A MULTISPACE METER RECEIPT</td>\n",
       "      <td>1400 K ST NW NORTH SIDE</td>\n",
       "      <td>VA</td>\n",
       "      <td>4D</td>\n",
       "      <td>240269</td>\n",
       "      <td>NaN</td>\n",
       "      <td>397189</td>\n",
       "      <td>137146</td>\n",
       "      <td>2015-12-01T00:00:00.000Z</td>\n",
       "    </tr>\n",
       "    <tr>\n",
       "      <th>4</th>\n",
       "      <td>-77.035568</td>\n",
       "      <td>38.902531</td>\n",
       "      <td>32443140</td>\n",
       "      <td>7814266</td>\n",
       "      <td>TUESDAY</td>\n",
       "      <td>0</td>\n",
       "      <td>49</td>\n",
       "      <td>12</td>\n",
       "      <td>838.0</td>\n",
       "      <td>P031</td>\n",
       "      <td>UNAUTHORIZED VEHICLE IN LOADING ZONE</td>\n",
       "      <td>1600 BLOCK K ST NW SOUTH SIDE</td>\n",
       "      <td>MD</td>\n",
       "      <td>VA</td>\n",
       "      <td>801818</td>\n",
       "      <td>1512.0</td>\n",
       "      <td>396915</td>\n",
       "      <td>137186</td>\n",
       "      <td>2015-12-01T00:00:00.000Z</td>\n",
       "    </tr>\n",
       "  </tbody>\n",
       "</table>\n",
       "</div>"
      ],
      "text/plain": [
       "          ﻿X          Y  OBJECTID   ROWID_ DAY_OF_WEEK  HOLIDAY  WEEK_OF_YEAR  \\\n",
       "0 -76.994964  38.899564  32443136  7814262     TUESDAY        0            49   \n",
       "1 -77.066881  38.903706  32443137  7814263     TUESDAY        0            49   \n",
       "2 -77.007824  38.952920  32443138  7814264     TUESDAY        0            49   \n",
       "3 -77.032409  38.902172  32443139  7814265     TUESDAY        0            49   \n",
       "4 -77.035568  38.902531  32443140  7814266     TUESDAY        0            49   \n",
       "\n",
       "   MONTH_OF_YEAR  ISSUE_TIME VIOLATION_CODE  \\\n",
       "0             12      1034.0           P002   \n",
       "1             12      1547.0           P039   \n",
       "2             12      1925.0           P003   \n",
       "3             12      2041.0           P281   \n",
       "4             12       838.0           P031   \n",
       "\n",
       "                              VIOLATION_DESCRIPTION  \\\n",
       "0                            STAND OR PARK IN ALLEY   \n",
       "1                             PARK AT EXPIRED METER   \n",
       "2  RESIDENTIAL PERMIT PKING BEYOND LIMIT W/O PERMIT   \n",
       "3        FAIL TO DISPLAY A MULTISPACE METER RECEIPT   \n",
       "4              UNAUTHORIZED VEHICLE IN LOADING ZONE   \n",
       "\n",
       "                              LOCATION RP_PLATE_STATE BODY_STYLE  ADDRESS_ID  \\\n",
       "0        800 BLOCK 8TH ST NE WEST SIDE             MD         VA      802662   \n",
       "1    3400 BLOCK WATER ST NW SOUTH SIDE             VA         4D      805850   \n",
       "2  5200 BLOCK FORT TOTTEN DR NE WEST *             MD         UT      802277   \n",
       "3              1400 K ST NW NORTH SIDE             VA         4D      240269   \n",
       "4        1600 BLOCK K ST NW SOUTH SIDE             MD         VA      801818   \n",
       "\n",
       "   STREETSEGID  XCOORD  YCOORD         TICKET_ISSUE_DATE  \n",
       "0       2041.0  400437  136856  2015-12-01T00:00:00.000Z  \n",
       "1       5005.0  394199  137318  2015-12-01T00:00:00.000Z  \n",
       "2       1890.0  399322  142779  2015-12-01T00:00:00.000Z  \n",
       "3          NaN  397189  137146  2015-12-01T00:00:00.000Z  \n",
       "4       1512.0  396915  137186  2015-12-01T00:00:00.000Z  "
      ]
     },
     "execution_count": 2,
     "metadata": {},
     "output_type": "execute_result"
    }
   ],
   "source": [
    "df.head()"
   ]
  },
  {
   "cell_type": "markdown",
   "metadata": {},
   "source": [
    "pandas also allows us to query the data to filter down the results."
   ]
  },
  {
   "cell_type": "code",
   "execution_count": 3,
   "metadata": {
    "collapsed": false,
    "scrolled": false
   },
   "outputs": [
    {
     "data": {
      "text/html": [
       "<div>\n",
       "<table border=\"1\" class=\"dataframe\">\n",
       "  <thead>\n",
       "    <tr style=\"text-align: right;\">\n",
       "      <th></th>\n",
       "      <th>﻿X</th>\n",
       "      <th>Y</th>\n",
       "      <th>OBJECTID</th>\n",
       "      <th>ROWID_</th>\n",
       "      <th>DAY_OF_WEEK</th>\n",
       "      <th>HOLIDAY</th>\n",
       "      <th>WEEK_OF_YEAR</th>\n",
       "      <th>MONTH_OF_YEAR</th>\n",
       "      <th>ISSUE_TIME</th>\n",
       "      <th>VIOLATION_CODE</th>\n",
       "      <th>VIOLATION_DESCRIPTION</th>\n",
       "      <th>LOCATION</th>\n",
       "      <th>RP_PLATE_STATE</th>\n",
       "      <th>BODY_STYLE</th>\n",
       "      <th>ADDRESS_ID</th>\n",
       "      <th>STREETSEGID</th>\n",
       "      <th>XCOORD</th>\n",
       "      <th>YCOORD</th>\n",
       "      <th>TICKET_ISSUE_DATE</th>\n",
       "    </tr>\n",
       "  </thead>\n",
       "  <tbody>\n",
       "    <tr>\n",
       "      <th>11513</th>\n",
       "      <td>-77.015681</td>\n",
       "      <td>38.902526</td>\n",
       "      <td>32939470</td>\n",
       "      <td>8516313</td>\n",
       "      <td>THURSDAY</td>\n",
       "      <td>0</td>\n",
       "      <td>49</td>\n",
       "      <td>12</td>\n",
       "      <td>1223.0</td>\n",
       "      <td>P281</td>\n",
       "      <td>FAIL TO DISPLAY A MULTISPACE METER RECEIPT</td>\n",
       "      <td>400 BLOCK K ST NW SOUTH SIDE</td>\n",
       "      <td>DC</td>\n",
       "      <td>4D</td>\n",
       "      <td>815026</td>\n",
       "      <td>12954.0</td>\n",
       "      <td>398640</td>\n",
       "      <td>137185</td>\n",
       "      <td>2015-12-03T00:00:00.000Z</td>\n",
       "    </tr>\n",
       "    <tr>\n",
       "      <th>11514</th>\n",
       "      <td>-77.046641</td>\n",
       "      <td>38.910202</td>\n",
       "      <td>32939471</td>\n",
       "      <td>8516314</td>\n",
       "      <td>THURSDAY</td>\n",
       "      <td>0</td>\n",
       "      <td>49</td>\n",
       "      <td>12</td>\n",
       "      <td>1849.0</td>\n",
       "      <td>P199</td>\n",
       "      <td>PARK IN A DESIGNATED ENTRANCE</td>\n",
       "      <td>1600 BLOCK 21ST ST NW WEST SIDE</td>\n",
       "      <td>DC</td>\n",
       "      <td>4D</td>\n",
       "      <td>814335</td>\n",
       "      <td>12352.0</td>\n",
       "      <td>395955</td>\n",
       "      <td>138038</td>\n",
       "      <td>2015-12-03T00:00:00.000Z</td>\n",
       "    </tr>\n",
       "    <tr>\n",
       "      <th>11515</th>\n",
       "      <td>-77.027570</td>\n",
       "      <td>38.908578</td>\n",
       "      <td>32939472</td>\n",
       "      <td>8516315</td>\n",
       "      <td>THURSDAY</td>\n",
       "      <td>0</td>\n",
       "      <td>49</td>\n",
       "      <td>12</td>\n",
       "      <td>1626.0</td>\n",
       "      <td>P012</td>\n",
       "      <td>DISOBEYING OFFICIAL SIGN</td>\n",
       "      <td>1200 BLOCK O ST NW NORTH SIDE</td>\n",
       "      <td>DE</td>\n",
       "      <td>4D</td>\n",
       "      <td>811790</td>\n",
       "      <td>10114.0</td>\n",
       "      <td>397609</td>\n",
       "      <td>137857</td>\n",
       "      <td>2015-12-03T00:00:00.000Z</td>\n",
       "    </tr>\n",
       "    <tr>\n",
       "      <th>11516</th>\n",
       "      <td>-77.027570</td>\n",
       "      <td>38.908578</td>\n",
       "      <td>32939473</td>\n",
       "      <td>8516316</td>\n",
       "      <td>THURSDAY</td>\n",
       "      <td>0</td>\n",
       "      <td>49</td>\n",
       "      <td>12</td>\n",
       "      <td>1629.0</td>\n",
       "      <td>P055</td>\n",
       "      <td>NO PARKING ANYTIME</td>\n",
       "      <td>1200 BLOCK O ST NW SOUTH SIDE</td>\n",
       "      <td>DC</td>\n",
       "      <td>PU</td>\n",
       "      <td>811790</td>\n",
       "      <td>10114.0</td>\n",
       "      <td>397609</td>\n",
       "      <td>137857</td>\n",
       "      <td>2015-12-03T00:00:00.000Z</td>\n",
       "    </tr>\n",
       "    <tr>\n",
       "      <th>11517</th>\n",
       "      <td>-77.009063</td>\n",
       "      <td>38.895618</td>\n",
       "      <td>32939474</td>\n",
       "      <td>8516317</td>\n",
       "      <td>THURSDAY</td>\n",
       "      <td>0</td>\n",
       "      <td>49</td>\n",
       "      <td>12</td>\n",
       "      <td>1744.0</td>\n",
       "      <td>P259</td>\n",
       "      <td>NO STOPPING OR STANDING IN PM RUSH HOUR ZONE</td>\n",
       "      <td>500 BLOCK N CAPITOL ST NE EAST SIDE</td>\n",
       "      <td>MD</td>\n",
       "      <td>4D</td>\n",
       "      <td>812697</td>\n",
       "      <td>10918.0</td>\n",
       "      <td>399214</td>\n",
       "      <td>136418</td>\n",
       "      <td>2015-12-03T00:00:00.000Z</td>\n",
       "    </tr>\n",
       "  </tbody>\n",
       "</table>\n",
       "</div>"
      ],
      "text/plain": [
       "              ﻿X          Y  OBJECTID   ROWID_ DAY_OF_WEEK  HOLIDAY  \\\n",
       "11513 -77.015681  38.902526  32939470  8516313    THURSDAY        0   \n",
       "11514 -77.046641  38.910202  32939471  8516314    THURSDAY        0   \n",
       "11515 -77.027570  38.908578  32939472  8516315    THURSDAY        0   \n",
       "11516 -77.027570  38.908578  32939473  8516316    THURSDAY        0   \n",
       "11517 -77.009063  38.895618  32939474  8516317    THURSDAY        0   \n",
       "\n",
       "       WEEK_OF_YEAR  MONTH_OF_YEAR  ISSUE_TIME VIOLATION_CODE  \\\n",
       "11513            49             12      1223.0           P281   \n",
       "11514            49             12      1849.0           P199   \n",
       "11515            49             12      1626.0           P012   \n",
       "11516            49             12      1629.0           P055   \n",
       "11517            49             12      1744.0           P259   \n",
       "\n",
       "                              VIOLATION_DESCRIPTION  \\\n",
       "11513    FAIL TO DISPLAY A MULTISPACE METER RECEIPT   \n",
       "11514                 PARK IN A DESIGNATED ENTRANCE   \n",
       "11515                      DISOBEYING OFFICIAL SIGN   \n",
       "11516                            NO PARKING ANYTIME   \n",
       "11517  NO STOPPING OR STANDING IN PM RUSH HOUR ZONE   \n",
       "\n",
       "                                  LOCATION RP_PLATE_STATE BODY_STYLE  \\\n",
       "11513         400 BLOCK K ST NW SOUTH SIDE             DC         4D   \n",
       "11514      1600 BLOCK 21ST ST NW WEST SIDE             DC         4D   \n",
       "11515        1200 BLOCK O ST NW NORTH SIDE             DE         4D   \n",
       "11516        1200 BLOCK O ST NW SOUTH SIDE             DC         PU   \n",
       "11517  500 BLOCK N CAPITOL ST NE EAST SIDE             MD         4D   \n",
       "\n",
       "       ADDRESS_ID  STREETSEGID  XCOORD  YCOORD         TICKET_ISSUE_DATE  \n",
       "11513      815026      12954.0  398640  137185  2015-12-03T00:00:00.000Z  \n",
       "11514      814335      12352.0  395955  138038  2015-12-03T00:00:00.000Z  \n",
       "11515      811790      10114.0  397609  137857  2015-12-03T00:00:00.000Z  \n",
       "11516      811790      10114.0  397609  137857  2015-12-03T00:00:00.000Z  \n",
       "11517      812697      10918.0  399214  136418  2015-12-03T00:00:00.000Z  "
      ]
     },
     "execution_count": 3,
     "metadata": {},
     "output_type": "execute_result"
    }
   ],
   "source": [
    "df.loc[df['DAY_OF_WEEK']=='THURSDAY'].head()"
   ]
  },
  {
   "cell_type": "markdown",
   "metadata": {},
   "source": [
    "To filter results using the label of a column you have to first call the .loc function on the dataframe.\n",
    "\n",
    ".loc[] is primarily label based, but may also be used with a boolean array.\n",
    "\n",
    "Allowed inputs are:\n",
    "\n",
    "* A single label, e.g. 5 or 'a', (note that 5 is interpreted as a label of the index, and never as an integer position along the index).\n",
    "* A list or array of labels, e.g. ['a', 'b', 'c'].\n",
    "* A slice object with labels, e.g. 'a':'f' (note that contrary to usual python slices, both the start and the stop are included!).\n",
    "* A boolean array.\n",
    "* A callable function with one argument (the calling Series, DataFrame or Panel) and that returns valid output for indexing (one of the above)\n",
    "\n",
    "In the example above we passed a boolean value, everytime Python returned a TRUE matching the value to the day of the week, Python will return the row of data. "
   ]
  },
  {
   "cell_type": "markdown",
   "metadata": {},
   "source": [
    "pandas also allows us to return specific columns"
   ]
  },
  {
   "cell_type": "code",
   "execution_count": 4,
   "metadata": {
    "collapsed": false
   },
   "outputs": [
    {
     "data": {
      "text/html": [
       "<div>\n",
       "<table border=\"1\" class=\"dataframe\">\n",
       "  <thead>\n",
       "    <tr style=\"text-align: right;\">\n",
       "      <th></th>\n",
       "      <th>DAY_OF_WEEK</th>\n",
       "      <th>WEEK_OF_YEAR</th>\n",
       "      <th>MONTH_OF_YEAR</th>\n",
       "      <th>ISSUE_TIME</th>\n",
       "    </tr>\n",
       "  </thead>\n",
       "  <tbody>\n",
       "    <tr>\n",
       "      <th>0</th>\n",
       "      <td>TUESDAY</td>\n",
       "      <td>49</td>\n",
       "      <td>12</td>\n",
       "      <td>1034.0</td>\n",
       "    </tr>\n",
       "    <tr>\n",
       "      <th>1</th>\n",
       "      <td>TUESDAY</td>\n",
       "      <td>49</td>\n",
       "      <td>12</td>\n",
       "      <td>1547.0</td>\n",
       "    </tr>\n",
       "    <tr>\n",
       "      <th>2</th>\n",
       "      <td>TUESDAY</td>\n",
       "      <td>49</td>\n",
       "      <td>12</td>\n",
       "      <td>1925.0</td>\n",
       "    </tr>\n",
       "    <tr>\n",
       "      <th>3</th>\n",
       "      <td>TUESDAY</td>\n",
       "      <td>49</td>\n",
       "      <td>12</td>\n",
       "      <td>2041.0</td>\n",
       "    </tr>\n",
       "    <tr>\n",
       "      <th>4</th>\n",
       "      <td>TUESDAY</td>\n",
       "      <td>49</td>\n",
       "      <td>12</td>\n",
       "      <td>838.0</td>\n",
       "    </tr>\n",
       "  </tbody>\n",
       "</table>\n",
       "</div>"
      ],
      "text/plain": [
       "  DAY_OF_WEEK  WEEK_OF_YEAR  MONTH_OF_YEAR  ISSUE_TIME\n",
       "0     TUESDAY            49             12      1034.0\n",
       "1     TUESDAY            49             12      1547.0\n",
       "2     TUESDAY            49             12      1925.0\n",
       "3     TUESDAY            49             12      2041.0\n",
       "4     TUESDAY            49             12       838.0"
      ]
     },
     "execution_count": 4,
     "metadata": {},
     "output_type": "execute_result"
    }
   ],
   "source": [
    "df[['DAY_OF_WEEK', 'WEEK_OF_YEAR', 'MONTH_OF_YEAR', 'ISSUE_TIME']].head()"
   ]
  },
  {
   "cell_type": "code",
   "execution_count": null,
   "metadata": {
    "collapsed": true
   },
   "outputs": [],
   "source": []
  }
 ],
 "metadata": {
  "anaconda-cloud": {},
  "kernelspec": {
   "display_name": "Python [default]",
   "language": "python",
   "name": "python3"
  },
  "language_info": {
   "codemirror_mode": {
    "name": "ipython",
    "version": 3
   },
   "file_extension": ".py",
   "mimetype": "text/x-python",
   "name": "python",
   "nbconvert_exporter": "python",
   "pygments_lexer": "ipython3",
   "version": "3.5.2"
  }
 },
 "nbformat": 4,
 "nbformat_minor": 1
}
